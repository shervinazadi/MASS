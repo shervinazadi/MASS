{
 "metadata": {
  "language_info": {
   "codemirror_mode": {
    "name": "ipython",
    "version": 3
   },
   "file_extension": ".py",
   "mimetype": "text/x-python",
   "name": "python",
   "nbconvert_exporter": "python",
   "pygments_lexer": "ipython3",
   "version": "3.8.5"
  },
  "orig_nbformat": 2,
  "kernelspec": {
   "name": "python385jvsc74a57bd0232c0d2e1ace95119f0f50ab7b77ac3ba9f0cfd8ad5dddf0ba4b7966ca8956d0",
   "display_name": "Python 3.8.5 64-bit ('tgdev': conda)"
  }
 },
 "nbformat": 4,
 "nbformat_minor": 2,
 "cells": [
  {
   "cell_type": "code",
   "execution_count": 10,
   "metadata": {},
   "outputs": [],
   "source": [
    "import mass\n",
    "import os\n",
    "import topogenesis as tg\n",
    "import numpy as np\n",
    "import pandas as pd\n",
    "import json\n",
    "import pyvista as pv"
   ]
  },
  {
   "cell_type": "code",
   "execution_count": 11,
   "metadata": {},
   "outputs": [],
   "source": [
    "stn_I = tg.create_stencil(\"von_neumann\", 1, 1)\n",
    "stn_I.set_index([0,0,0], 0)\n",
    "stn_II = tg.create_stencil(\"von_neumann\", 2, clip=1)\n",
    "stn_II.set_index([0,0,0], 0)\n",
    "stencils = {\n",
    "    \"stn_I\": stn_I,\n",
    "    \"stn_II\": stn_II\n",
    "    }"
   ]
  },
  {
   "cell_type": "code",
   "execution_count": 12,
   "metadata": {},
   "outputs": [
    {
     "output_type": "execute_result",
     "data": {
      "text/plain": [
       "            preferences                              behaviors            \n",
       "                ent_acc        sun_acc           neighbourhood            \n",
       "                 desire weight  desire weight         stencils     weights\n",
       "lobby               1.0    1.0     1.0    0.0          [stn_I]         [1]\n",
       "roof_garden         1.0    0.0     1.0    1.0  [stn_I, stn_II]  [0.5, 0.5]\n",
       "workshop            1.0    0.5     1.0    0.5          [stn_I]         [1]"
      ],
      "text/html": "<div>\n<style scoped>\n    .dataframe tbody tr th:only-of-type {\n        vertical-align: middle;\n    }\n\n    .dataframe tbody tr th {\n        vertical-align: top;\n    }\n\n    .dataframe thead tr th {\n        text-align: left;\n    }\n</style>\n<table border=\"1\" class=\"dataframe\">\n  <thead>\n    <tr>\n      <th></th>\n      <th colspan=\"4\" halign=\"left\">preferences</th>\n      <th colspan=\"2\" halign=\"left\">behaviors</th>\n    </tr>\n    <tr>\n      <th></th>\n      <th colspan=\"2\" halign=\"left\">ent_acc</th>\n      <th colspan=\"2\" halign=\"left\">sun_acc</th>\n      <th colspan=\"2\" halign=\"left\">neighbourhood</th>\n    </tr>\n    <tr>\n      <th></th>\n      <th>desire</th>\n      <th>weight</th>\n      <th>desire</th>\n      <th>weight</th>\n      <th>stencils</th>\n      <th>weights</th>\n    </tr>\n  </thead>\n  <tbody>\n    <tr>\n      <th>lobby</th>\n      <td>1.0</td>\n      <td>1.0</td>\n      <td>1.0</td>\n      <td>0.0</td>\n      <td>[stn_I]</td>\n      <td>[1]</td>\n    </tr>\n    <tr>\n      <th>roof_garden</th>\n      <td>1.0</td>\n      <td>0.0</td>\n      <td>1.0</td>\n      <td>1.0</td>\n      <td>[stn_I, stn_II]</td>\n      <td>[0.5, 0.5]</td>\n    </tr>\n    <tr>\n      <th>workshop</th>\n      <td>1.0</td>\n      <td>0.5</td>\n      <td>1.0</td>\n      <td>0.5</td>\n      <td>[stn_I]</td>\n      <td>[1]</td>\n    </tr>\n  </tbody>\n</table>\n</div>"
     },
     "metadata": {},
     "execution_count": 12
    }
   ],
   "source": [
    "data_path = os.path.relpath('data')\n",
    "prgm_path = os.path.join(data_path, 'program.csv')\n",
    "program = pd.read_csv(prgm_path, header=[0, 1, 2], index_col=[0], sep=\";\",converters={i:eval for i in range(1,100)})\n",
    "program"
   ]
  },
  {
   "cell_type": "code",
   "execution_count": 13,
   "metadata": {},
   "outputs": [],
   "source": [
    "avail_lattice = tg.lattice_from_csv(os.path.join(data_path, 'voxelized_envelope.csv'))\n",
    "\n",
    "env_lattices = {l_name: tg.lattice_from_csv(os.path.join(data_path,l_name+'.csv')) for l_name in set(program[\"preferences\"].columns.get_level_values(0))}"
   ]
  },
  {
   "cell_type": "code",
   "execution_count": 14,
   "metadata": {},
   "outputs": [],
   "source": [
    "agents_dict = mass.utilities.df_to_nested_dict(program)\n",
    "for aid, a in enumerate(agents_dict):\n",
    "    agents_dict[a][\"aid\"] = aid"
   ]
  },
  {
   "cell_type": "code",
   "execution_count": 16,
   "metadata": {},
   "outputs": [
    {
     "output_type": "execute_result",
     "data": {
      "text/plain": [
       "{'lobby': {'preferences': {'ent_acc': {'desire': 1.0, 'weight': 1.0},\n",
       "   'sun_acc': {'desire': 1.0, 'weight': 0.0}},\n",
       "  'behaviors': {'neighbourhood': {'stencils': ['stn_I'], 'weights': [1]}},\n",
       "  'aid': 0},\n",
       " 'roof_garden': {'preferences': {'ent_acc': {'desire': 1.0, 'weight': 0.0},\n",
       "   'sun_acc': {'desire': 1.0, 'weight': 1.0}},\n",
       "  'behaviors': {'neighbourhood': {'stencils': ['stn_I', 'stn_II'],\n",
       "    'weights': [0.5, 0.5]}},\n",
       "  'aid': 1},\n",
       " 'workshop': {'preferences': {'ent_acc': {'desire': 1.0, 'weight': 0.5},\n",
       "   'sun_acc': {'desire': 1.0, 'weight': 0.5}},\n",
       "  'behaviors': {'neighbourhood': {'stencils': ['stn_I'], 'weights': [1]}},\n",
       "  'aid': 2}}"
      ]
     },
     "metadata": {},
     "execution_count": 16
    }
   ],
   "source": [
    "agents_dict"
   ]
  },
  {
   "cell_type": "code",
   "execution_count": 15,
   "metadata": {},
   "outputs": [
    {
     "output_type": "stream",
     "name": "stdout",
     "text": [
      "Valid environment created, shape =(16, 15, 5)\n"
     ]
    }
   ],
   "source": [
    "env = mass.environment(avail_lattice, env_lattices, agents_dict, stencils)"
   ]
  },
  {
   "cell_type": "code",
   "execution_count": null,
   "metadata": {},
   "outputs": [],
   "source": [
    "occ_frames = [np.copy(env.occ_lattice)]\n",
    "\n",
    "max_iteration = 10\n",
    "# Simulation Loop\n",
    "for i in range(max_iteration):\n",
    "    # Agent Loop\n",
    "    for a_name, a in env.agents.items():\n",
    "\n",
    "        # Neighbourhood Evaluation\n",
    "        ##########\n",
    "        neigh_lat = avail_lattice * 0.0\n",
    "        for s, w in zip(\n",
    "            a.behaviors[\"neighbourhood\"][\"stencils\"], \n",
    "            a.behaviors[\"neighbourhood\"][\"weights\"]):\n",
    "            # find and aggregate neighs\n",
    "            neigh_lat += a.bhv_find_neighbour(s, env) * w    \n",
    "\n",
    "        # extract neigh values for agent\n",
    "        neigh_eval_lat = neigh_lat * a.eval_lat\n",
    "\n",
    "        # Occupation\n",
    "        ##########\n",
    "        a.bhv_occupy(env, np.unravel_index(neigh_eval_lat.argmax(), neigh_eval_lat.shape))\n",
    "    #############\n",
    "    # End of agent loop\n",
    "    occ_frames.append(np.copy(env.occ_lattice))\n",
    "#############\n",
    "# End of simulation loop\n"
   ]
  },
  {
   "cell_type": "code",
   "execution_count": null,
   "metadata": {},
   "outputs": [],
   "source": [
    "p = pv.Plotter(notebook=True)\n",
    "\n",
    "base_lattice = env.avail_lattice\n",
    "\n",
    "# Set the grid dimensions: shape + 1 because we want to inject our values on the CELL data\n",
    "grid = pv.UniformGrid()\n",
    "grid.dimensions = np.array(base_lattice.shape) + 1\n",
    "# The bottom left corner of the data set\n",
    "grid.origin = base_lattice.minbound - base_lattice.unit * 0.5\n",
    "# These are the cell sizes along each axis\n",
    "grid.spacing = base_lattice.unit \n",
    "\n",
    "# adding the boundingbox wireframe\n",
    "p.add_mesh(grid.outline(), color=\"grey\", label=\"Domain\")\n",
    "\n",
    "# # adding the avilability lattice\n",
    "# init_avail_lattice.fast_vis(p)\n",
    "\n",
    "# adding axes\n",
    "p.add_axes()\n",
    "p.show_bounds(grid=\"back\", location=\"back\", color=\"#aaaaaa\")\n",
    "\n",
    "def create_mesh(value):\n",
    "    f = int(value)\n",
    "    lattice = occ_frames[f]\n",
    "\n",
    "    # Add the data values to the cell data\n",
    "    grid.cell_arrays[\"Agents\"] = lattice.flatten(order=\"F\").astype(int)  # Flatten the array!\n",
    "    # filtering the voxels\n",
    "    threshed = grid.threshold([-0.1, len(env.agents) - 0.9])\n",
    "    # adding the voxels\n",
    "    p.add_mesh(threshed, name='sphere', show_edges=True, opacity=1.0, show_scalar_bar=False)\n",
    "\n",
    "    return\n",
    "\n",
    "p.add_slider_widget(create_mesh, [0, len(occ_frames)], title='Time', value=0, event_type=\"always\", style=\"classic\", pointa=(0.1, 0.1), pointb=(0.9, 0.1))\n",
    "p.show(use_ipyvtk=True)"
   ]
  }
 ]
}